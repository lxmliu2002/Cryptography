{
 "cells": [
  {
   "cell_type": "markdown",
   "metadata": {},
   "source": [
    "以00111010100101001101011000111111为密钥生成若干明文-密文对"
   ]
  },
  {
   "cell_type": "code",
   "execution_count": 1,
   "metadata": {},
   "outputs": [
    {
     "name": "stderr",
     "output_type": "stream",
     "text": [
      "Generating Pairs:   0%|          | 0/16000 [00:00<?, ?pair/s]"
     ]
    },
    {
     "name": "stderr",
     "output_type": "stream",
     "text": [
      "Generating Pairs: 100%|██████████| 16000/16000 [01:26<00:00, 184.48pair/s]"
     ]
    },
    {
     "name": "stdout",
     "output_type": "stream",
     "text": [
      "Generated 16000 pairs and saved to pairs.txt.\n"
     ]
    },
    {
     "name": "stderr",
     "output_type": "stream",
     "text": [
      "\n"
     ]
    }
   ],
   "source": [
    "import subprocess\n",
    "import random\n",
    "from tqdm import tqdm\n",
    "\n",
    "def generate_random_binary_string(length=16):\n",
    "    return ''.join(random.choice('01') for _ in range(length))\n",
    "\n",
    "executable_file_path = \"./exe/SPN.exe\"\n",
    "num_pairs = 16000\n",
    "\n",
    "with open(\"./data/pairs.txt\", \"w\") as file:\n",
    "    for _ in tqdm(range(num_pairs), desc=\"Generating Pairs\", unit=\"pair\"):\n",
    "        input_data = generate_random_binary_string()\n",
    "        result = subprocess.run([executable_file_path], input=input_data.encode(), stdout=subprocess.PIPE, stderr=subprocess.PIPE)\n",
    "        output_data = result.stdout.decode().strip()\n",
    "\n",
    "        file.write(input_data + \"\\n\")\n",
    "        file.write(output_data + \"\\n\")\n",
    "\n",
    "print(f\"Generated {num_pairs} pairs and saved to pairs.txt.\")\n"
   ]
  },
  {
   "cell_type": "markdown",
   "metadata": {},
   "source": [
    "以00000000000000000000000000000000为密钥生成若干明文-密文对"
   ]
  },
  {
   "cell_type": "code",
   "execution_count": 4,
   "metadata": {},
   "outputs": [
    {
     "name": "stderr",
     "output_type": "stream",
     "text": [
      "Generating Pairs: 100%|██████████| 16000/16000 [01:51<00:00, 143.92pair/s]"
     ]
    },
    {
     "name": "stdout",
     "output_type": "stream",
     "text": [
      "Generated 16000 pairs and saved to pairs.txt.\n"
     ]
    },
    {
     "name": "stderr",
     "output_type": "stream",
     "text": [
      "\n"
     ]
    }
   ],
   "source": [
    "import subprocess\n",
    "import random\n",
    "from tqdm import tqdm\n",
    "\n",
    "def generate_random_binary_string(length=16):\n",
    "    return ''.join(random.choice('01') for _ in range(length))\n",
    "\n",
    "executable_file_path = \"./exe/SPN00.exe\"\n",
    "num_pairs = 16000\n",
    "\n",
    "with open(\"./data/pairs00.txt\", \"w\") as file:\n",
    "    for _ in tqdm(range(num_pairs), desc=\"Generating Pairs\", unit=\"pair\"):\n",
    "        input_data = generate_random_binary_string()\n",
    "        result = subprocess.run([executable_file_path], input=input_data.encode(), stdout=subprocess.PIPE, stderr=subprocess.PIPE)\n",
    "        output_data = result.stdout.decode().strip()\n",
    "\n",
    "        file.write(input_data + \"\\n\")\n",
    "        file.write(output_data + \"\\n\")\n",
    "\n",
    "print(f\"Generated {num_pairs} pairs and saved to pairs.txt.\")\n"
   ]
  },
  {
   "cell_type": "markdown",
   "metadata": {},
   "source": [
    "以11111111111111111111111111111111为密钥生成若干明文-密文对"
   ]
  },
  {
   "cell_type": "code",
   "execution_count": 5,
   "metadata": {},
   "outputs": [
    {
     "name": "stderr",
     "output_type": "stream",
     "text": [
      "Generating Pairs: 100%|██████████| 16000/16000 [01:30<00:00, 176.95pair/s]"
     ]
    },
    {
     "name": "stdout",
     "output_type": "stream",
     "text": [
      "Generated 16000 pairs and saved to pairs.txt.\n"
     ]
    },
    {
     "name": "stderr",
     "output_type": "stream",
     "text": [
      "\n"
     ]
    }
   ],
   "source": [
    "import subprocess\n",
    "import random\n",
    "from tqdm import tqdm\n",
    "\n",
    "def generate_random_binary_string(length=16):\n",
    "    return ''.join(random.choice('01') for _ in range(length))\n",
    "\n",
    "executable_file_path = \"./exe/SPN11.exe\"\n",
    "num_pairs = 16000\n",
    "\n",
    "with open(\"./data/pairs11.txt\", \"w\") as file:\n",
    "    for _ in tqdm(range(num_pairs), desc=\"Generating Pairs\", unit=\"pair\"):\n",
    "        input_data = generate_random_binary_string()\n",
    "        result = subprocess.run([executable_file_path], input=input_data.encode(), stdout=subprocess.PIPE, stderr=subprocess.PIPE)\n",
    "        output_data = result.stdout.decode().strip()\n",
    "\n",
    "        file.write(input_data + \"\\n\")\n",
    "        file.write(output_data + \"\\n\")\n",
    "\n",
    "print(f\"Generated {num_pairs} pairs and saved to pairs.txt.\")\n"
   ]
  },
  {
   "cell_type": "markdown",
   "metadata": {},
   "source": [
    "以01010101010101010101010101010101为密钥生成若干明文-密文对"
   ]
  },
  {
   "cell_type": "code",
   "execution_count": 6,
   "metadata": {},
   "outputs": [
    {
     "name": "stderr",
     "output_type": "stream",
     "text": [
      "Generating Pairs: 100%|██████████| 16000/16000 [01:35<00:00, 168.39pair/s]"
     ]
    },
    {
     "name": "stdout",
     "output_type": "stream",
     "text": [
      "Generated 16000 pairs and saved to pairs.txt.\n"
     ]
    },
    {
     "name": "stderr",
     "output_type": "stream",
     "text": [
      "\n"
     ]
    }
   ],
   "source": [
    "import subprocess\n",
    "import random\n",
    "from tqdm import tqdm\n",
    "\n",
    "def generate_random_binary_string(length=16):\n",
    "    return ''.join(random.choice('01') for _ in range(length))\n",
    "\n",
    "executable_file_path = \"./exe/SPN10.exe\"\n",
    "num_pairs = 16000\n",
    "\n",
    "with open(\"./data/pairs01.txt\", \"w\") as file:\n",
    "    for _ in tqdm(range(num_pairs), desc=\"Generating Pairs\", unit=\"pair\"):\n",
    "        input_data = generate_random_binary_string()\n",
    "        result = subprocess.run([executable_file_path], input=input_data.encode(), stdout=subprocess.PIPE, stderr=subprocess.PIPE)\n",
    "        output_data = result.stdout.decode().strip()\n",
    "\n",
    "        file.write(input_data + \"\\n\")\n",
    "        file.write(output_data + \"\\n\")\n",
    "\n",
    "print(f\"Generated {num_pairs} pairs and saved to pairs.txt.\")\n"
   ]
  },
  {
   "cell_type": "markdown",
   "metadata": {},
   "source": [
    "以10101010101010101010101010101010为密钥生成若干明文-密文对"
   ]
  },
  {
   "cell_type": "code",
   "execution_count": 7,
   "metadata": {},
   "outputs": [
    {
     "name": "stderr",
     "output_type": "stream",
     "text": [
      "Generating Pairs: 100%|██████████| 16000/16000 [01:30<00:00, 176.13pair/s]"
     ]
    },
    {
     "name": "stdout",
     "output_type": "stream",
     "text": [
      "Generated 16000 pairs and saved to pairs.txt.\n"
     ]
    },
    {
     "name": "stderr",
     "output_type": "stream",
     "text": [
      "\n"
     ]
    }
   ],
   "source": [
    "import subprocess\n",
    "import random\n",
    "from tqdm import tqdm\n",
    "\n",
    "def generate_random_binary_string(length=16):\n",
    "    return ''.join(random.choice('01') for _ in range(length))\n",
    "\n",
    "executable_file_path = \"./exe/SPN01.exe\"\n",
    "num_pairs = 16000\n",
    "\n",
    "with open(\"./data/pairs10.txt\", \"w\") as file:\n",
    "    for _ in tqdm(range(num_pairs), desc=\"Generating Pairs\", unit=\"pair\"):\n",
    "        input_data = generate_random_binary_string()\n",
    "        result = subprocess.run([executable_file_path], input=input_data.encode(), stdout=subprocess.PIPE, stderr=subprocess.PIPE)\n",
    "        output_data = result.stdout.decode().strip()\n",
    "\n",
    "        file.write(input_data + \"\\n\")\n",
    "        file.write(output_data + \"\\n\")\n",
    "\n",
    "print(f\"Generated {num_pairs} pairs and saved to pairs.txt.\")\n"
   ]
  }
 ],
 "metadata": {
  "kernelspec": {
   "display_name": "Python 3",
   "language": "python",
   "name": "python3"
  },
  "language_info": {
   "codemirror_mode": {
    "name": "ipython",
    "version": 3
   },
   "file_extension": ".py",
   "mimetype": "text/x-python",
   "name": "python",
   "nbconvert_exporter": "python",
   "pygments_lexer": "ipython3",
   "version": "3.11.4"
  }
 },
 "nbformat": 4,
 "nbformat_minor": 2
}
